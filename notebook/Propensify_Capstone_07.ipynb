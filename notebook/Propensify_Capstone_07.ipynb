{
 "cells": [
  {
   "cell_type": "markdown",
   "id": "3290991f-4a9e-45c3-b4de-fdef08461cd6",
   "metadata": {},
   "source": [
    "Objective:- Model to identify how likely certain target groups customers respond to the marketing campaign"
   ]
  },
  {
   "cell_type": "code",
   "execution_count": 1,
   "id": "0f080c50-04a4-4522-880b-1600cdf8f328",
   "metadata": {},
   "outputs": [],
   "source": [
    "import pandas as pd\n",
    "import numpy as np\n",
    "import matplotlib.pyplot as plt\n",
    "import seaborn as sns"
   ]
  },
  {
   "cell_type": "markdown",
   "id": "f0719167-846e-4d29-8e1a-fdd0d39bcf72",
   "metadata": {},
   "source": [
    "import train data"
   ]
  },
  {
   "cell_type": "code",
   "execution_count": 2,
   "id": "df0916d3-e069-44b3-b57e-41f23f1be7f0",
   "metadata": {},
   "outputs": [],
   "source": [
    "df=pd.read_excel(\"/Users/kuriankgeorge/Desktop/aws/Capstone/07_Propensify/data/Propensify/train.xlsx\")"
   ]
  },
  {
   "cell_type": "code",
   "execution_count": 3,
   "id": "697ec0a3-db48-41f4-9f32-2359323e959c",
   "metadata": {},
   "outputs": [
    {
     "data": {
      "text/html": [
       "<div>\n",
       "<style scoped>\n",
       "    .dataframe tbody tr th:only-of-type {\n",
       "        vertical-align: middle;\n",
       "    }\n",
       "\n",
       "    .dataframe tbody tr th {\n",
       "        vertical-align: top;\n",
       "    }\n",
       "\n",
       "    .dataframe thead th {\n",
       "        text-align: right;\n",
       "    }\n",
       "</style>\n",
       "<table border=\"1\" class=\"dataframe\">\n",
       "  <thead>\n",
       "    <tr style=\"text-align: right;\">\n",
       "      <th></th>\n",
       "      <th>custAge</th>\n",
       "      <th>profession</th>\n",
       "      <th>marital</th>\n",
       "      <th>schooling</th>\n",
       "      <th>default</th>\n",
       "      <th>housing</th>\n",
       "      <th>loan</th>\n",
       "      <th>contact</th>\n",
       "      <th>month</th>\n",
       "      <th>day_of_week</th>\n",
       "      <th>...</th>\n",
       "      <th>emp.var.rate</th>\n",
       "      <th>cons.price.idx</th>\n",
       "      <th>cons.conf.idx</th>\n",
       "      <th>euribor3m</th>\n",
       "      <th>nr.employed</th>\n",
       "      <th>pmonths</th>\n",
       "      <th>pastEmail</th>\n",
       "      <th>responded</th>\n",
       "      <th>profit</th>\n",
       "      <th>id</th>\n",
       "    </tr>\n",
       "  </thead>\n",
       "  <tbody>\n",
       "    <tr>\n",
       "      <th>0</th>\n",
       "      <td>34.0</td>\n",
       "      <td>admin.</td>\n",
       "      <td>single</td>\n",
       "      <td>university.degree</td>\n",
       "      <td>no</td>\n",
       "      <td>no</td>\n",
       "      <td>yes</td>\n",
       "      <td>cellular</td>\n",
       "      <td>apr</td>\n",
       "      <td>wed</td>\n",
       "      <td>...</td>\n",
       "      <td>-1.8</td>\n",
       "      <td>93.075</td>\n",
       "      <td>-47.1</td>\n",
       "      <td>1.498</td>\n",
       "      <td>5099.1</td>\n",
       "      <td>999.0</td>\n",
       "      <td>0.0</td>\n",
       "      <td>no</td>\n",
       "      <td>NaN</td>\n",
       "      <td>1.0</td>\n",
       "    </tr>\n",
       "    <tr>\n",
       "      <th>1</th>\n",
       "      <td>31.0</td>\n",
       "      <td>services</td>\n",
       "      <td>single</td>\n",
       "      <td>high.school</td>\n",
       "      <td>no</td>\n",
       "      <td>no</td>\n",
       "      <td>no</td>\n",
       "      <td>cellular</td>\n",
       "      <td>jul</td>\n",
       "      <td>thu</td>\n",
       "      <td>...</td>\n",
       "      <td>1.4</td>\n",
       "      <td>93.918</td>\n",
       "      <td>-42.7</td>\n",
       "      <td>4.968</td>\n",
       "      <td>5228.1</td>\n",
       "      <td>999.0</td>\n",
       "      <td>0.0</td>\n",
       "      <td>no</td>\n",
       "      <td>NaN</td>\n",
       "      <td>2.0</td>\n",
       "    </tr>\n",
       "    <tr>\n",
       "      <th>2</th>\n",
       "      <td>NaN</td>\n",
       "      <td>admin.</td>\n",
       "      <td>single</td>\n",
       "      <td>high.school</td>\n",
       "      <td>no</td>\n",
       "      <td>no</td>\n",
       "      <td>no</td>\n",
       "      <td>telephone</td>\n",
       "      <td>jun</td>\n",
       "      <td>NaN</td>\n",
       "      <td>...</td>\n",
       "      <td>1.4</td>\n",
       "      <td>94.465</td>\n",
       "      <td>-41.8</td>\n",
       "      <td>4.961</td>\n",
       "      <td>5228.1</td>\n",
       "      <td>999.0</td>\n",
       "      <td>0.0</td>\n",
       "      <td>no</td>\n",
       "      <td>NaN</td>\n",
       "      <td>3.0</td>\n",
       "    </tr>\n",
       "    <tr>\n",
       "      <th>3</th>\n",
       "      <td>52.0</td>\n",
       "      <td>admin.</td>\n",
       "      <td>divorced</td>\n",
       "      <td>university.degree</td>\n",
       "      <td>unknown</td>\n",
       "      <td>yes</td>\n",
       "      <td>no</td>\n",
       "      <td>cellular</td>\n",
       "      <td>jul</td>\n",
       "      <td>tue</td>\n",
       "      <td>...</td>\n",
       "      <td>1.4</td>\n",
       "      <td>93.918</td>\n",
       "      <td>-42.7</td>\n",
       "      <td>4.962</td>\n",
       "      <td>5228.1</td>\n",
       "      <td>999.0</td>\n",
       "      <td>0.0</td>\n",
       "      <td>no</td>\n",
       "      <td>NaN</td>\n",
       "      <td>4.0</td>\n",
       "    </tr>\n",
       "    <tr>\n",
       "      <th>4</th>\n",
       "      <td>39.0</td>\n",
       "      <td>blue-collar</td>\n",
       "      <td>single</td>\n",
       "      <td>NaN</td>\n",
       "      <td>unknown</td>\n",
       "      <td>yes</td>\n",
       "      <td>no</td>\n",
       "      <td>cellular</td>\n",
       "      <td>jul</td>\n",
       "      <td>tue</td>\n",
       "      <td>...</td>\n",
       "      <td>1.4</td>\n",
       "      <td>93.918</td>\n",
       "      <td>-42.7</td>\n",
       "      <td>4.961</td>\n",
       "      <td>5228.1</td>\n",
       "      <td>999.0</td>\n",
       "      <td>0.0</td>\n",
       "      <td>no</td>\n",
       "      <td>NaN</td>\n",
       "      <td>5.0</td>\n",
       "    </tr>\n",
       "  </tbody>\n",
       "</table>\n",
       "<p>5 rows × 24 columns</p>\n",
       "</div>"
      ],
      "text/plain": [
       "   custAge   profession   marital          schooling  default housing loan  \\\n",
       "0     34.0       admin.    single  university.degree       no      no  yes   \n",
       "1     31.0     services    single        high.school       no      no   no   \n",
       "2      NaN       admin.    single        high.school       no      no   no   \n",
       "3     52.0       admin.  divorced  university.degree  unknown     yes   no   \n",
       "4     39.0  blue-collar    single                NaN  unknown     yes   no   \n",
       "\n",
       "     contact month day_of_week  ...  emp.var.rate  cons.price.idx  \\\n",
       "0   cellular   apr         wed  ...          -1.8          93.075   \n",
       "1   cellular   jul         thu  ...           1.4          93.918   \n",
       "2  telephone   jun         NaN  ...           1.4          94.465   \n",
       "3   cellular   jul         tue  ...           1.4          93.918   \n",
       "4   cellular   jul         tue  ...           1.4          93.918   \n",
       "\n",
       "   cons.conf.idx euribor3m  nr.employed  pmonths  pastEmail  responded  \\\n",
       "0          -47.1     1.498       5099.1    999.0        0.0         no   \n",
       "1          -42.7     4.968       5228.1    999.0        0.0         no   \n",
       "2          -41.8     4.961       5228.1    999.0        0.0         no   \n",
       "3          -42.7     4.962       5228.1    999.0        0.0         no   \n",
       "4          -42.7     4.961       5228.1    999.0        0.0         no   \n",
       "\n",
       "   profit   id  \n",
       "0     NaN  1.0  \n",
       "1     NaN  2.0  \n",
       "2     NaN  3.0  \n",
       "3     NaN  4.0  \n",
       "4     NaN  5.0  \n",
       "\n",
       "[5 rows x 24 columns]"
      ]
     },
     "execution_count": 3,
     "metadata": {},
     "output_type": "execute_result"
    }
   ],
   "source": [
    "df.head()"
   ]
  },
  {
   "cell_type": "code",
   "execution_count": 4,
   "id": "254f6d7e-8dbc-4d38-9d7f-2715cf30c834",
   "metadata": {},
   "outputs": [
    {
     "data": {
      "text/plain": [
       "Index(['custAge', 'profession', 'marital', 'schooling', 'default', 'housing',\n",
       "       'loan', 'contact', 'month', 'day_of_week', 'campaign', 'pdays',\n",
       "       'previous', 'poutcome', 'emp.var.rate', 'cons.price.idx',\n",
       "       'cons.conf.idx', 'euribor3m', 'nr.employed', 'pmonths', 'pastEmail',\n",
       "       'responded', 'profit', 'id'],\n",
       "      dtype='object')"
      ]
     },
     "execution_count": 4,
     "metadata": {},
     "output_type": "execute_result"
    }
   ],
   "source": [
    "df.columns"
   ]
  },
  {
   "cell_type": "markdown",
   "id": "c11d17b7-1490-4bcf-931e-4faeadf5d115",
   "metadata": {},
   "source": [
    "Understanding the missing values"
   ]
  },
  {
   "cell_type": "code",
   "execution_count": 5,
   "id": "b544de28-6a85-4f60-a291-701997f23589",
   "metadata": {},
   "outputs": [
    {
     "data": {
      "text/plain": [
       "custAge           0.244660\n",
       "profession        0.000243\n",
       "marital           0.000243\n",
       "schooling         0.292233\n",
       "default           0.000243\n",
       "housing           0.000243\n",
       "loan              0.000243\n",
       "contact           0.000243\n",
       "month             0.000243\n",
       "day_of_week       0.095752\n",
       "campaign          0.000243\n",
       "pdays             0.000243\n",
       "previous          0.000243\n",
       "poutcome          0.000243\n",
       "emp.var.rate      0.000243\n",
       "cons.price.idx    0.000243\n",
       "cons.conf.idx     0.000243\n",
       "euribor3m         0.000243\n",
       "nr.employed       0.000243\n",
       "pmonths           0.000243\n",
       "pastEmail         0.000243\n",
       "responded         0.000243\n",
       "profit            0.887136\n",
       "id                0.000243\n",
       "dtype: float64"
      ]
     },
     "execution_count": 5,
     "metadata": {},
     "output_type": "execute_result"
    }
   ],
   "source": [
    "df.isnull().sum()/len(df)"
   ]
  },
  {
   "cell_type": "markdown",
   "id": "1756d94c-cda3-4cc6-aa62-d29a29702691",
   "metadata": {},
   "source": [
    "Understand shape of df"
   ]
  },
  {
   "cell_type": "code",
   "execution_count": 6,
   "id": "d2dd8716-78e5-482e-830d-5dd407d4b4c7",
   "metadata": {},
   "outputs": [
    {
     "data": {
      "text/plain": [
       "(8240, 24)"
      ]
     },
     "execution_count": 6,
     "metadata": {},
     "output_type": "execute_result"
    }
   ],
   "source": [
    "df.shape"
   ]
  },
  {
   "cell_type": "markdown",
   "id": "8b10a131-2c73-494f-827a-52c328466db6",
   "metadata": {},
   "source": [
    "Profit column is with 88% missing values. So remove the column"
   ]
  },
  {
   "cell_type": "code",
   "execution_count": 7,
   "id": "eadb1853-a727-47b1-a05b-de4039d68134",
   "metadata": {},
   "outputs": [],
   "source": [
    "df.drop(columns=['profit'],inplace=True)"
   ]
  },
  {
   "cell_type": "markdown",
   "id": "c71e1cbc-2f23-40d8-890f-97081bdbe94b",
   "metadata": {},
   "source": [
    "Let us remove the columns that are not significant"
   ]
  },
  {
   "cell_type": "code",
   "execution_count": 8,
   "id": "f7029372-4c32-43de-a73c-304d1f9e576e",
   "metadata": {},
   "outputs": [],
   "source": [
    "df.drop(columns=['contact','month','day_of_week','campaign','pdays','id'],inplace=True)"
   ]
  },
  {
   "cell_type": "code",
   "execution_count": 9,
   "id": "a0a5abde-bd8e-4d0e-a2a4-7f0e7f5a9205",
   "metadata": {},
   "outputs": [
    {
     "data": {
      "text/html": [
       "<div>\n",
       "<style scoped>\n",
       "    .dataframe tbody tr th:only-of-type {\n",
       "        vertical-align: middle;\n",
       "    }\n",
       "\n",
       "    .dataframe tbody tr th {\n",
       "        vertical-align: top;\n",
       "    }\n",
       "\n",
       "    .dataframe thead th {\n",
       "        text-align: right;\n",
       "    }\n",
       "</style>\n",
       "<table border=\"1\" class=\"dataframe\">\n",
       "  <thead>\n",
       "    <tr style=\"text-align: right;\">\n",
       "      <th></th>\n",
       "      <th>custAge</th>\n",
       "      <th>profession</th>\n",
       "      <th>marital</th>\n",
       "      <th>schooling</th>\n",
       "      <th>default</th>\n",
       "      <th>housing</th>\n",
       "      <th>loan</th>\n",
       "      <th>previous</th>\n",
       "      <th>poutcome</th>\n",
       "      <th>emp.var.rate</th>\n",
       "      <th>cons.price.idx</th>\n",
       "      <th>cons.conf.idx</th>\n",
       "      <th>euribor3m</th>\n",
       "      <th>nr.employed</th>\n",
       "      <th>pmonths</th>\n",
       "      <th>pastEmail</th>\n",
       "      <th>responded</th>\n",
       "    </tr>\n",
       "  </thead>\n",
       "  <tbody>\n",
       "    <tr>\n",
       "      <th>0</th>\n",
       "      <td>34.0</td>\n",
       "      <td>admin.</td>\n",
       "      <td>single</td>\n",
       "      <td>university.degree</td>\n",
       "      <td>no</td>\n",
       "      <td>no</td>\n",
       "      <td>yes</td>\n",
       "      <td>0.0</td>\n",
       "      <td>nonexistent</td>\n",
       "      <td>-1.8</td>\n",
       "      <td>93.075</td>\n",
       "      <td>-47.1</td>\n",
       "      <td>1.498</td>\n",
       "      <td>5099.1</td>\n",
       "      <td>999.0</td>\n",
       "      <td>0.0</td>\n",
       "      <td>no</td>\n",
       "    </tr>\n",
       "    <tr>\n",
       "      <th>1</th>\n",
       "      <td>31.0</td>\n",
       "      <td>services</td>\n",
       "      <td>single</td>\n",
       "      <td>high.school</td>\n",
       "      <td>no</td>\n",
       "      <td>no</td>\n",
       "      <td>no</td>\n",
       "      <td>0.0</td>\n",
       "      <td>nonexistent</td>\n",
       "      <td>1.4</td>\n",
       "      <td>93.918</td>\n",
       "      <td>-42.7</td>\n",
       "      <td>4.968</td>\n",
       "      <td>5228.1</td>\n",
       "      <td>999.0</td>\n",
       "      <td>0.0</td>\n",
       "      <td>no</td>\n",
       "    </tr>\n",
       "    <tr>\n",
       "      <th>2</th>\n",
       "      <td>NaN</td>\n",
       "      <td>admin.</td>\n",
       "      <td>single</td>\n",
       "      <td>high.school</td>\n",
       "      <td>no</td>\n",
       "      <td>no</td>\n",
       "      <td>no</td>\n",
       "      <td>0.0</td>\n",
       "      <td>nonexistent</td>\n",
       "      <td>1.4</td>\n",
       "      <td>94.465</td>\n",
       "      <td>-41.8</td>\n",
       "      <td>4.961</td>\n",
       "      <td>5228.1</td>\n",
       "      <td>999.0</td>\n",
       "      <td>0.0</td>\n",
       "      <td>no</td>\n",
       "    </tr>\n",
       "    <tr>\n",
       "      <th>3</th>\n",
       "      <td>52.0</td>\n",
       "      <td>admin.</td>\n",
       "      <td>divorced</td>\n",
       "      <td>university.degree</td>\n",
       "      <td>unknown</td>\n",
       "      <td>yes</td>\n",
       "      <td>no</td>\n",
       "      <td>0.0</td>\n",
       "      <td>nonexistent</td>\n",
       "      <td>1.4</td>\n",
       "      <td>93.918</td>\n",
       "      <td>-42.7</td>\n",
       "      <td>4.962</td>\n",
       "      <td>5228.1</td>\n",
       "      <td>999.0</td>\n",
       "      <td>0.0</td>\n",
       "      <td>no</td>\n",
       "    </tr>\n",
       "    <tr>\n",
       "      <th>4</th>\n",
       "      <td>39.0</td>\n",
       "      <td>blue-collar</td>\n",
       "      <td>single</td>\n",
       "      <td>NaN</td>\n",
       "      <td>unknown</td>\n",
       "      <td>yes</td>\n",
       "      <td>no</td>\n",
       "      <td>0.0</td>\n",
       "      <td>nonexistent</td>\n",
       "      <td>1.4</td>\n",
       "      <td>93.918</td>\n",
       "      <td>-42.7</td>\n",
       "      <td>4.961</td>\n",
       "      <td>5228.1</td>\n",
       "      <td>999.0</td>\n",
       "      <td>0.0</td>\n",
       "      <td>no</td>\n",
       "    </tr>\n",
       "  </tbody>\n",
       "</table>\n",
       "</div>"
      ],
      "text/plain": [
       "   custAge   profession   marital          schooling  default housing loan  \\\n",
       "0     34.0       admin.    single  university.degree       no      no  yes   \n",
       "1     31.0     services    single        high.school       no      no   no   \n",
       "2      NaN       admin.    single        high.school       no      no   no   \n",
       "3     52.0       admin.  divorced  university.degree  unknown     yes   no   \n",
       "4     39.0  blue-collar    single                NaN  unknown     yes   no   \n",
       "\n",
       "   previous     poutcome  emp.var.rate  cons.price.idx  cons.conf.idx  \\\n",
       "0       0.0  nonexistent          -1.8          93.075          -47.1   \n",
       "1       0.0  nonexistent           1.4          93.918          -42.7   \n",
       "2       0.0  nonexistent           1.4          94.465          -41.8   \n",
       "3       0.0  nonexistent           1.4          93.918          -42.7   \n",
       "4       0.0  nonexistent           1.4          93.918          -42.7   \n",
       "\n",
       "   euribor3m  nr.employed  pmonths  pastEmail responded  \n",
       "0      1.498       5099.1    999.0        0.0        no  \n",
       "1      4.968       5228.1    999.0        0.0        no  \n",
       "2      4.961       5228.1    999.0        0.0        no  \n",
       "3      4.962       5228.1    999.0        0.0        no  \n",
       "4      4.961       5228.1    999.0        0.0        no  "
      ]
     },
     "execution_count": 9,
     "metadata": {},
     "output_type": "execute_result"
    }
   ],
   "source": [
    "df.head()"
   ]
  },
  {
   "cell_type": "markdown",
   "id": "d34119a6-e96f-4e31-a762-f4833ea42794",
   "metadata": {},
   "source": [
    "Filling the missing values by mode or median of corresponding columns"
   ]
  },
  {
   "cell_type": "code",
   "execution_count": 10,
   "id": "1e4a6bc4-5a35-4368-9c0c-b2c8ec8205bc",
   "metadata": {},
   "outputs": [],
   "source": [
    "col_mode=['profession','marital','schooling','default','housing','loan','previous','poutcome','pmonths','pastEmail','responded']\n",
    "col_median=['custAge','emp.var.rate','cons.price.idx','cons.conf.idx','euribor3m','nr.employed']"
   ]
  },
  {
   "cell_type": "code",
   "execution_count": 11,
   "id": "03c77983-a914-4148-8f82-f2729faa536d",
   "metadata": {},
   "outputs": [],
   "source": [
    "mode_values={}\n",
    "median_values={}"
   ]
  },
  {
   "cell_type": "code",
   "execution_count": 12,
   "id": "6916bc9f-8296-447d-8426-5f70b7fbb11e",
   "metadata": {},
   "outputs": [],
   "source": [
    "#storing mode and median values to dictionary to use later\n",
    "for col in col_mode:\n",
    "    mode_values[col+'_mode']=df[col].mode()[0]\n",
    "    df[col].fillna(df[col].mode()[0],inplace=True)\n",
    "for col in col_median:\n",
    "    median_values[col+'_mode']=df[col].median()\n",
    "    df[col].fillna(df[col].median(),inplace=True)"
   ]
  },
  {
   "cell_type": "code",
   "execution_count": 13,
   "id": "9bbfddb2-de39-4941-a2bf-e5bce820f298",
   "metadata": {},
   "outputs": [
    {
     "data": {
      "text/plain": [
       "{'profession_mode': 'admin.',\n",
       " 'marital_mode': 'married',\n",
       " 'schooling_mode': 'university.degree',\n",
       " 'default_mode': 'no',\n",
       " 'housing_mode': 'yes',\n",
       " 'loan_mode': 'no',\n",
       " 'previous_mode': 0.0,\n",
       " 'poutcome_mode': 'nonexistent',\n",
       " 'pmonths_mode': 999.0,\n",
       " 'pastEmail_mode': 0.0,\n",
       " 'responded_mode': 'no'}"
      ]
     },
     "execution_count": 13,
     "metadata": {},
     "output_type": "execute_result"
    }
   ],
   "source": [
    "mode_values"
   ]
  },
  {
   "cell_type": "code",
   "execution_count": 14,
   "id": "a27ceb7b-fee7-49bf-8cc2-2fbda850a9b6",
   "metadata": {},
   "outputs": [
    {
     "data": {
      "text/plain": [
       "{'custAge_mode': 38.0,\n",
       " 'emp.var.rate_mode': 1.1,\n",
       " 'cons.price.idx_mode': 93.444,\n",
       " 'cons.conf.idx_mode': -41.8,\n",
       " 'euribor3m_mode': 4.857,\n",
       " 'nr.employed_mode': 5191.0}"
      ]
     },
     "execution_count": 14,
     "metadata": {},
     "output_type": "execute_result"
    }
   ],
   "source": [
    "median_values"
   ]
  },
  {
   "cell_type": "markdown",
   "id": "1ea7558e-f82a-41a4-84c1-6068bef18b31",
   "metadata": {},
   "source": [
    "Ensuring no missing values present in df"
   ]
  },
  {
   "cell_type": "code",
   "execution_count": 15,
   "id": "f9e98030-d72f-4d35-bc6d-39c3f60f48b5",
   "metadata": {},
   "outputs": [
    {
     "data": {
      "text/plain": [
       "custAge           0.0\n",
       "profession        0.0\n",
       "marital           0.0\n",
       "schooling         0.0\n",
       "default           0.0\n",
       "housing           0.0\n",
       "loan              0.0\n",
       "previous          0.0\n",
       "poutcome          0.0\n",
       "emp.var.rate      0.0\n",
       "cons.price.idx    0.0\n",
       "cons.conf.idx     0.0\n",
       "euribor3m         0.0\n",
       "nr.employed       0.0\n",
       "pmonths           0.0\n",
       "pastEmail         0.0\n",
       "responded         0.0\n",
       "dtype: float64"
      ]
     },
     "execution_count": 15,
     "metadata": {},
     "output_type": "execute_result"
    }
   ],
   "source": [
    "df.isnull().sum()/len(df)"
   ]
  },
  {
   "cell_type": "markdown",
   "id": "95ebcd25-b70c-417d-95dd-480962745d54",
   "metadata": {},
   "source": [
    "Understand the distribution of age"
   ]
  },
  {
   "cell_type": "code",
   "execution_count": 16,
   "id": "6a37d734-c2bf-41fb-8c4b-3955d8823016",
   "metadata": {},
   "outputs": [
    {
     "name": "stderr",
     "output_type": "stream",
     "text": [
      "/opt/anaconda3/lib/python3.11/site-packages/seaborn/_oldcore.py:1119: FutureWarning: use_inf_as_na option is deprecated and will be removed in a future version. Convert inf values to NaN before operating instead.\n",
      "  with pd.option_context('mode.use_inf_as_na', True):\n"
     ]
    },
    {
     "data": {
      "image/png": "[encoded data removed]",
      "text/plain": [
       "<Figure size 640x480 with 1 Axes>"
      ]
     },
     "metadata": {},
     "output_type": "display_data"
    }
   ],
   "source": [
    "sns.histplot(data=df,x='custAge',hue='responded',multiple='stack')\n",
    "plt.show()"
   ]
  },
  {
   "cell_type": "markdown",
   "id": "e5662af7-ba63-4102-9612-70a63119b64d",
   "metadata": {},
   "source": [
    "There is no significant relationship between age and target"
   ]
  },
  {
   "cell_type": "code",
   "execution_count": 17,
   "id": "20992c15-a6c5-471f-9937-fe5167a83b7a",
   "metadata": {},
   "outputs": [
    {
     "data": {
      "image/png": "[encoded data removed]",
      "text/plain": [
       "<Figure size 1000x600 with 1 Axes>"
      ]
     },
     "metadata": {},
     "output_type": "display_data"
    }
   ],
   "source": [
    "plt.figure(figsize=(10, 6))\n",
    "sns.countplot(data=df,x='profession',hue='responded')\n",
    "plt.xticks(rotation=45)\n",
    "plt.show()"
   ]
  },
  {
   "cell_type": "markdown",
   "id": "09edde88-5a3d-4cec-9e7e-712305dcf4d3",
   "metadata": {},
   "source": [
    "In the dataset majority of the people are with 'admin' job. The ratio of the people responded 'yes' from 'service' is less compared to admin"
   ]
  },
  {
   "cell_type": "code",
   "execution_count": 18,
   "id": "36c5ef43-2c54-435a-8e75-3f72e125d0e7",
   "metadata": {},
   "outputs": [
    {
     "data": {
      "image/png": "[encoded data removed]",
      "text/plain": [
       "<Figure size 1000x600 with 1 Axes>"
      ]
     },
     "metadata": {},
     "output_type": "display_data"
    }
   ],
   "source": [
    "plt.figure(figsize=(10, 6))\n",
    "sns.countplot(data=df,x='marital',hue='responded')\n",
    "plt.xticks(rotation=45)\n",
    "plt.show()"
   ]
  },
  {
   "cell_type": "markdown",
   "id": "ef47588f-644d-44e3-a00a-a308d5a41f5d",
   "metadata": {},
   "source": [
    "in the dataset majority of the people are married"
   ]
  },
  {
   "cell_type": "code",
   "execution_count": 19,
   "id": "51dd6c3d-8a09-407f-859b-a7374c79954d",
   "metadata": {},
   "outputs": [
    {
     "data": {
      "image/png": "[encoded data removed]",
      "text/plain": [
       "<Figure size 1000x600 with 1 Axes>"
      ]
     },
     "metadata": {},
     "output_type": "display_data"
    }
   ],
   "source": [
    "plt.figure(figsize=(10, 6))\n",
    "sns.countplot(data=df,x='loan',hue='responded')\n",
    "plt.xticks(rotation=45)\n",
    "plt.show()"
   ]
  },
  {
   "cell_type": "markdown",
   "id": "7a893896-a6d8-4540-bd80-6f74b1f4027c",
   "metadata": {},
   "source": [
    "in the dataset majority of the people dont have loan"
   ]
  },
  {
   "cell_type": "markdown",
   "id": "cc73388a-2b31-4703-85f3-a8a8064a5003",
   "metadata": {},
   "source": [
    "Converting target column to numeric"
   ]
  },
  {
   "cell_type": "code",
   "execution_count": 20,
   "id": "98c4ebe3-d5e1-4e4d-adaf-1b45e08f333e",
   "metadata": {},
   "outputs": [],
   "source": [
    "df['responded']=df['responded'].apply(lambda x: 0 if x=='no' else 1)"
   ]
  },
  {
   "cell_type": "markdown",
   "id": "ded804fd-1494-49c4-af74-57967aedf437",
   "metadata": {},
   "source": [
    "Splitting dependent and independent variables"
   ]
  },
  {
   "cell_type": "code",
   "execution_count": 21,
   "id": "c4815d83-0422-4e24-9b3c-8361a7ed46a6",
   "metadata": {},
   "outputs": [],
   "source": [
    "X=df.drop(columns=['responded'])\n",
    "y=df['responded']"
   ]
  },
  {
   "cell_type": "markdown",
   "id": "0f824b43-bcc4-45f6-8e0a-c8649248cb4d",
   "metadata": {},
   "source": [
    "Scaling the data"
   ]
  },
  {
   "cell_type": "code",
   "execution_count": 22,
   "id": "5f1dfede-4e1e-4c6e-9e92-f9b42dc997ab",
   "metadata": {},
   "outputs": [],
   "source": [
    "from sklearn.preprocessing import StandardScaler, OneHotEncoder\n",
    "from sklearn.compose import ColumnTransformer\n",
    "from sklearn.pipeline import Pipeline"
   ]
  },
  {
   "cell_type": "code",
   "execution_count": 23,
   "id": "aea7fb0b-5c4e-4c55-8e9b-9cd6a426b7a5",
   "metadata": {},
   "outputs": [],
   "source": [
    "numerical_transformer=StandardScaler()\n",
    "categorical_transformer=OneHotEncoder(drop='first',sparse=False)"
   ]
  },
  {
   "cell_type": "code",
   "execution_count": 24,
   "id": "67b0fe93-d792-46b8-8dcb-600ff880c9e8",
   "metadata": {},
   "outputs": [],
   "source": [
    "num_columns=['custAge','emp.var.rate','cons.price.idx','cons.conf.idx','euribor3m','nr.employed']\n",
    "cat_columns=[col for col in X.columns if col not in num_columns]"
   ]
  },
  {
   "cell_type": "code",
   "execution_count": 25,
   "id": "48fed812-2ab7-46b6-92be-bd1c61ccc862",
   "metadata": {},
   "outputs": [
    {
     "data": {
      "text/plain": [
       "['profession',\n",
       " 'marital',\n",
       " 'schooling',\n",
       " 'default',\n",
       " 'housing',\n",
       " 'loan',\n",
       " 'previous',\n",
       " 'poutcome',\n",
       " 'pmonths',\n",
       " 'pastEmail']"
      ]
     },
     "execution_count": 25,
     "metadata": {},
     "output_type": "execute_result"
    }
   ],
   "source": [
    "cat_columns"
   ]
  },
  {
   "cell_type": "code",
   "execution_count": 26,
   "id": "1a34d176-b543-4584-8190-879cce1008db",
   "metadata": {},
   "outputs": [],
   "source": [
    "preprocessor=ColumnTransformer(\n",
    "    transformers=[\n",
    "        ('num',numerical_transformer,num_columns),\n",
    "        ('cat',categorical_transformer,cat_columns)\n",
    "    ])"
   ]
  },
  {
   "cell_type": "code",
   "execution_count": 27,
   "id": "42271e88-3ab6-405a-b400-cc4d7cb7a5b3",
   "metadata": {},
   "outputs": [],
   "source": [
    "X=preprocessor.fit_transform(X)"
   ]
  },
  {
   "cell_type": "code",
   "execution_count": 28,
   "id": "da43c7d3-1adb-4744-a74e-f2754e0e8898",
   "metadata": {},
   "outputs": [],
   "source": [
    "encoded_cat_columns=preprocessor.named_transformers_['cat'].get_feature_names_out(cat_columns)"
   ]
  },
  {
   "cell_type": "code",
   "execution_count": 29,
   "id": "30aab9fb-8e08-4ee0-a59b-f8ab65c412c9",
   "metadata": {},
   "outputs": [],
   "source": [
    "encoded_cat_columns=list(encoded_cat_columns)"
   ]
  },
  {
   "cell_type": "code",
   "execution_count": 30,
   "id": "167079ba-97ba-4969-b0bf-1580f75c445a",
   "metadata": {},
   "outputs": [],
   "source": [
    "X=pd.DataFrame(X,columns=num_columns+encoded_cat_columns)"
   ]
  },
  {
   "cell_type": "markdown",
   "id": "e0d9b623-121e-4d0a-8957-40ef1222ec4a",
   "metadata": {},
   "source": [
    "Splitting the data for validation"
   ]
  },
  {
   "cell_type": "code",
   "execution_count": 31,
   "id": "22e0a26f-64c6-401a-9811-faa0cd5a3857",
   "metadata": {},
   "outputs": [],
   "source": [
    "from sklearn.model_selection import train_test_split"
   ]
  },
  {
   "cell_type": "code",
   "execution_count": 32,
   "id": "65ac3776-6bf1-4f16-a5f6-855aa91f263d",
   "metadata": {},
   "outputs": [],
   "source": [
    "X_train, X_valid, y_train, y_valid = train_test_split(X, y, test_size=0.1, random_state=42)"
   ]
  },
  {
   "cell_type": "markdown",
   "id": "0f5a79e8-a42d-4ddf-83fa-aa6c3a86aa58",
   "metadata": {},
   "source": [
    "For modeling Random forest classifier is used"
   ]
  },
  {
   "cell_type": "code",
   "execution_count": 33,
   "id": "4158d57a-beab-4744-bd35-cb5e1825cfd0",
   "metadata": {},
   "outputs": [],
   "source": [
    "from sklearn.ensemble import RandomForestClassifier\n",
    "from sklearn.model_selection import RandomizedSearchCV\n",
    "from sklearn.metrics import accuracy_score"
   ]
  },
  {
   "cell_type": "code",
   "execution_count": 34,
   "id": "a40c3f8d-117b-4153-a186-3a4764f61311",
   "metadata": {},
   "outputs": [],
   "source": [
    "rf = RandomForestClassifier(random_state=42)"
   ]
  },
  {
   "cell_type": "markdown",
   "id": "419a787c-f3d9-4fb2-9779-789c7f634b9f",
   "metadata": {},
   "source": [
    "Define hyperparameters"
   ]
  },
  {
   "cell_type": "code",
   "execution_count": 35,
   "id": "d8f69cf8-9865-41b6-beaf-850b61e8619c",
   "metadata": {},
   "outputs": [],
   "source": [
    "param_grid = {\n",
    "    'n_estimators': [10, 20, 50, 100],  # Number of trees\n",
    "    'max_depth': [None, 10, 20, 30],     # Maximum depth of the trees\n",
    "    'min_samples_split': [0.025,0.05,0.1,0.25,0.5],     # Minimum number of samples to split an internal node     \n",
    "    'bootstrap': [True, False]           # Whether bootstrap samples are used when building trees\n",
    "}"
   ]
  },
  {
   "cell_type": "code",
   "execution_count": 36,
   "id": "115c3683-8545-4634-a4a3-f1845e4aa39d",
   "metadata": {},
   "outputs": [],
   "source": [
    "rf_random = RandomizedSearchCV(estimator=rf, param_distributions=param_grid, n_iter=10, \n",
    "                               cv=3, verbose=2, random_state=42, n_jobs=-1)"
   ]
  },
  {
   "cell_type": "code",
   "execution_count": 37,
   "id": "36281158-3a34-4492-a7b7-a3323acedbe6",
   "metadata": {},
   "outputs": [
    {
     "name": "stdout",
     "output_type": "stream",
     "text": [
      "Fitting 3 folds for each of 10 candidates, totalling 30 fits\n"
     ]
    },
    {
     "data": {
      "text/html": [
       "<style>#sk-container-id-1 {color: black;background-color: white;}#sk-container-id-1 pre{padding: 0;}#sk-container-id-1 div.sk-toggleable {background-color: white;}#sk-container-id-1 label.sk-toggleable__label {cursor: pointer;display: block;width: 100%;margin-bottom: 0;padding: 0.3em;box-sizing: border-box;text-align: center;}#sk-container-id-1 label.sk-toggleable__label-arrow:before {content: \"▸\";float: left;margin-right: 0.25em;color: #696969;}#sk-container-id-1 label.sk-toggleable__label-arrow:hover:before {color: black;}#sk-container-id-1 div.sk-estimator:hover label.sk-toggleable__label-arrow:before {color: black;}#sk-container-id-1 div.sk-toggleable__content {max-height: 0;max-width: 0;overflow: hidden;text-align: left;background-color: #f0f8ff;}#sk-container-id-1 div.sk-toggleable__content pre {margin: 0.2em;color: black;border-radius: 0.25em;background-color: #f0f8ff;}#sk-container-id-1 input.sk-toggleable__control:checked~div.sk-toggleable__content {max-height: 200px;max-width: 100%;overflow: auto;}#sk-container-id-1 input.sk-toggleable__control:checked~label.sk-toggleable__label-arrow:before {content: \"▾\";}#sk-container-id-1 div.sk-estimator input.sk-toggleable__control:checked~label.sk-toggleable__label {background-color: #d4ebff;}#sk-container-id-1 div.sk-label input.sk-toggleable__control:checked~label.sk-toggleable__label {background-color: #d4ebff;}#sk-container-id-1 input.sk-hidden--visually {border: 0;clip: rect(1px 1px 1px 1px);clip: rect(1px, 1px, 1px, 1px);height: 1px;margin: -1px;overflow: hidden;padding: 0;position: absolute;width: 1px;}#sk-container-id-1 div.sk-estimator {font-family: monospace;background-color: #f0f8ff;border: 1px dotted black;border-radius: 0.25em;box-sizing: border-box;margin-bottom: 0.5em;}#sk-container-id-1 div.sk-estimator:hover {background-color: #d4ebff;}#sk-container-id-1 div.sk-parallel-item::after {content: \"\";width: 100%;border-bottom: 1px solid gray;flex-grow: 1;}#sk-container-id-1 div.sk-label:hover label.sk-toggleable__label {background-color: #d4ebff;}#sk-container-id-1 div.sk-serial::before {content: \"\";position: absolute;border-left: 1px solid gray;box-sizing: border-box;top: 0;bottom: 0;left: 50%;z-index: 0;}#sk-container-id-1 div.sk-serial {display: flex;flex-direction: column;align-items: center;background-color: white;padding-right: 0.2em;padding-left: 0.2em;position: relative;}#sk-container-id-1 div.sk-item {position: relative;z-index: 1;}#sk-container-id-1 div.sk-parallel {display: flex;align-items: stretch;justify-content: center;background-color: white;position: relative;}#sk-container-id-1 div.sk-item::before, #sk-container-id-1 div.sk-parallel-item::before {content: \"\";position: absolute;border-left: 1px solid gray;box-sizing: border-box;top: 0;bottom: 0;left: 50%;z-index: -1;}#sk-container-id-1 div.sk-parallel-item {display: flex;flex-direction: column;z-index: 1;position: relative;background-color: white;}#sk-container-id-1 div.sk-parallel-item:first-child::after {align-self: flex-end;width: 50%;}#sk-container-id-1 div.sk-parallel-item:last-child::after {align-self: flex-start;width: 50%;}#sk-container-id-1 div.sk-parallel-item:only-child::after {width: 0;}#sk-container-id-1 div.sk-dashed-wrapped {border: 1px dashed gray;margin: 0 0.4em 0.5em 0.4em;box-sizing: border-box;padding-bottom: 0.4em;background-color: white;}#sk-container-id-1 div.sk-label label {font-family: monospace;font-weight: bold;display: inline-block;line-height: 1.2em;}#sk-container-id-1 div.sk-label-container {text-align: center;}#sk-container-id-1 div.sk-container {/* jupyter's `normalize.less` sets `[hidden] { display: none; }` but bootstrap.min.css set `[hidden] { display: none !important; }` so we also need the `!important` here to be able to override the default hidden behavior on the sphinx rendered scikit-learn.org. See: https://github.com/scikit-learn/scikit-learn/issues/21755 */display: inline-block !important;position: relative;}#sk-container-id-1 div.sk-text-repr-fallback {display: none;}</style><div id=\"sk-container-id-1\" class=\"sk-top-container\"><div class=\"sk-text-repr-fallback\"><pre>RandomizedSearchCV(cv=3, estimator=RandomForestClassifier(random_state=42),\n",
       "                   n_jobs=-1,\n",
       "                   param_distributions={&#x27;bootstrap&#x27;: [True, False],\n",
       "                                        &#x27;max_depth&#x27;: [None, 10, 20, 30],\n",
       "                                        &#x27;min_samples_split&#x27;: [0.025, 0.05, 0.1,\n",
       "                                                              0.25, 0.5],\n",
       "                                        &#x27;n_estimators&#x27;: [10, 20, 50, 100]},\n",
       "                   random_state=42, verbose=2)</pre><b>In a Jupyter environment, please rerun this cell to show the HTML representation or trust the notebook. <br />On GitHub, the HTML representation is unable to render, please try loading this page with nbviewer.org.</b></div><div class=\"sk-container\" hidden><div class=\"sk-item sk-dashed-wrapped\"><div class=\"sk-label-container\"><div class=\"sk-label sk-toggleable\"><input class=\"sk-toggleable__control sk-hidden--visually\" id=\"sk-estimator-id-1\" type=\"checkbox\" ><label for=\"sk-estimator-id-1\" class=\"sk-toggleable__label sk-toggleable__label-arrow\">RandomizedSearchCV</label><div class=\"sk-toggleable__content\"><pre>RandomizedSearchCV(cv=3, estimator=RandomForestClassifier(random_state=42),\n",
       "                   n_jobs=-1,\n",
       "                   param_distributions={&#x27;bootstrap&#x27;: [True, False],\n",
       "                                        &#x27;max_depth&#x27;: [None, 10, 20, 30],\n",
       "                                        &#x27;min_samples_split&#x27;: [0.025, 0.05, 0.1,\n",
       "                                                              0.25, 0.5],\n",
       "                                        &#x27;n_estimators&#x27;: [10, 20, 50, 100]},\n",
       "                   random_state=42, verbose=2)</pre></div></div></div><div class=\"sk-parallel\"><div class=\"sk-parallel-item\"><div class=\"sk-item\"><div class=\"sk-label-container\"><div class=\"sk-label sk-toggleable\"><input class=\"sk-toggleable__control sk-hidden--visually\" id=\"sk-estimator-id-2\" type=\"checkbox\" ><label for=\"sk-estimator-id-2\" class=\"sk-toggleable__label sk-toggleable__label-arrow\">estimator: RandomForestClassifier</label><div class=\"sk-toggleable__content\"><pre>RandomForestClassifier(random_state=42)</pre></div></div></div><div class=\"sk-serial\"><div class=\"sk-item\"><div class=\"sk-estimator sk-toggleable\"><input class=\"sk-toggleable__control sk-hidden--visually\" id=\"sk-estimator-id-3\" type=\"checkbox\" ><label for=\"sk-estimator-id-3\" class=\"sk-toggleable__label sk-toggleable__label-arrow\">RandomForestClassifier</label><div class=\"sk-toggleable__content\"><pre>RandomForestClassifier(random_state=42)</pre></div></div></div></div></div></div></div></div></div></div>"
      ],
      "text/plain": [
       "RandomizedSearchCV(cv=3, estimator=RandomForestClassifier(random_state=42),\n",
       "                   n_jobs=-1,\n",
       "                   param_distributions={'bootstrap': [True, False],\n",
       "                                        'max_depth': [None, 10, 20, 30],\n",
       "                                        'min_samples_split': [0.025, 0.05, 0.1,\n",
       "                                                              0.25, 0.5],\n",
       "                                        'n_estimators': [10, 20, 50, 100]},\n",
       "                   random_state=42, verbose=2)"
      ]
     },
     "execution_count": 37,
     "metadata": {},
     "output_type": "execute_result"
    }
   ],
   "source": [
    "rf_random.fit(X_train, y_train)"
   ]
  },
  {
   "cell_type": "markdown",
   "id": "9c7c5b18-4109-4946-b149-3b2d96cff528",
   "metadata": {},
   "source": [
    "Finding best parameters"
   ]
  },
  {
   "cell_type": "code",
   "execution_count": 38,
   "id": "7d9f0616-4809-456d-9453-12210fe2b726",
   "metadata": {},
   "outputs": [
    {
     "name": "stdout",
     "output_type": "stream",
     "text": [
      "Best Hyperparameters: {'n_estimators': 50, 'min_samples_split': 0.025, 'max_depth': 30, 'bootstrap': False}\n"
     ]
    }
   ],
   "source": [
    "best_params = rf_random.best_params_\n",
    "print(f\"Best Hyperparameters: {best_params}\")"
   ]
  },
  {
   "cell_type": "markdown",
   "id": "dcae04d6-0cb9-41d9-971f-a0f7941c6b86",
   "metadata": {},
   "source": [
    "Fitting best parameters"
   ]
  },
  {
   "cell_type": "code",
   "execution_count": 39,
   "id": "6c68c22c-0eb7-4ec0-9802-338757bed15f",
   "metadata": {},
   "outputs": [],
   "source": [
    "best_rf = rf_random.best_estimator_"
   ]
  },
  {
   "cell_type": "code",
   "execution_count": 40,
   "id": "6f140e5a-2d14-4373-92c4-1c0f9fe0991a",
   "metadata": {},
   "outputs": [],
   "source": [
    "y_pred = best_rf.predict(X_train)"
   ]
  },
  {
   "cell_type": "code",
   "execution_count": 41,
   "id": "e49b2739-9c65-47fb-a281-5473b0a82a0c",
   "metadata": {},
   "outputs": [
    {
     "name": "stdout",
     "output_type": "stream",
     "text": [
      "Accuracy on the train set: 0.9050701186623517\n"
     ]
    }
   ],
   "source": [
    "accuracy = accuracy_score(y_train, y_pred)\n",
    "print(f\"Accuracy on the train set: {accuracy}\")"
   ]
  },
  {
   "cell_type": "markdown",
   "id": "4773f08f-9220-471b-8d31-bcff87a08935",
   "metadata": {},
   "source": [
    "So the accuracy of test data is 90%"
   ]
  },
  {
   "cell_type": "markdown",
   "id": "33c53a8a-9172-4458-bf47-ba498bb5323e",
   "metadata": {},
   "source": [
    "Saving the model"
   ]
  },
  {
   "cell_type": "code",
   "execution_count": 42,
   "id": "a395ba25-4fff-4292-b0bd-1952401074ed",
   "metadata": {},
   "outputs": [],
   "source": [
    "import pickle"
   ]
  },
  {
   "cell_type": "code",
   "execution_count": 43,
   "id": "5e0aa932-2a74-4451-b8ad-af4f52874d5e",
   "metadata": {},
   "outputs": [],
   "source": [
    "with open('best_rf_model.pkl', 'wb') as file:\n",
    "    pickle.dump(best_rf, file)"
   ]
  },
  {
   "cell_type": "markdown",
   "id": "85160535-a497-4090-9416-eef03cb70689",
   "metadata": {},
   "source": [
    "validating the model"
   ]
  },
  {
   "cell_type": "code",
   "execution_count": 44,
   "id": "2c82a438-dc24-4988-b432-12264141c4d5",
   "metadata": {},
   "outputs": [
    {
     "name": "stdout",
     "output_type": "stream",
     "text": [
      "Accuracy on the validation set: 0.8907766990291263\n"
     ]
    }
   ],
   "source": [
    "y_pred_valid = best_rf.predict(X_valid)\n",
    "accuracy_valid = accuracy_score(y_valid, y_pred_valid)\n",
    "print(f\"Accuracy on the validation set: {accuracy_valid}\")"
   ]
  },
  {
   "cell_type": "markdown",
   "id": "7656c02d-c5c7-417c-808d-d3b238ec7fe4",
   "metadata": {},
   "source": [
    "We can see 89% validation accuracy"
   ]
  },
  {
   "cell_type": "markdown",
   "id": "31d2c05e-498d-4e77-a244-9ccd2a1c2cc6",
   "metadata": {},
   "source": [
    "Load and Prediction using test data"
   ]
  },
  {
   "cell_type": "markdown",
   "id": "caf3dbbf-eeef-4f5b-b5f4-7bacb278339e",
   "metadata": {},
   "source": [
    "Transform the test data"
   ]
  },
  {
   "cell_type": "code",
   "execution_count": 45,
   "id": "70bfbd44-c8ef-4fa8-b7e0-fd633023482b",
   "metadata": {},
   "outputs": [],
   "source": [
    "test_df=pd.read_excel(\"/Users/kuriankgeorge/Desktop/aws/Capstone/07_Propensify/data/Propensify/test.xlsx\")"
   ]
  },
  {
   "cell_type": "code",
   "execution_count": 46,
   "id": "e1186e35-caa0-4012-9551-77be47e8b6cd",
   "metadata": {},
   "outputs": [
    {
     "data": {
      "text/plain": [
       "(32950, 22)"
      ]
     },
     "execution_count": 46,
     "metadata": {},
     "output_type": "execute_result"
    }
   ],
   "source": [
    "test_df.shape"
   ]
  },
  {
   "cell_type": "code",
   "execution_count": 47,
   "id": "257577b4-c0ad-4984-bed2-84916a6840a7",
   "metadata": {},
   "outputs": [
    {
     "data": {
      "text/plain": [
       "custAge           8042\n",
       "profession           0\n",
       "marital              0\n",
       "schooling         9770\n",
       "default              0\n",
       "housing              0\n",
       "loan                 0\n",
       "contact              0\n",
       "month                0\n",
       "day_of_week       3328\n",
       "campaign             0\n",
       "pdays                0\n",
       "previous             0\n",
       "poutcome             0\n",
       "emp.var.rate         0\n",
       "cons.price.idx       0\n",
       "cons.conf.idx        0\n",
       "euribor3m            0\n",
       "nr.employed          0\n",
       "pmonths              0\n",
       "pastEmail            0\n",
       "id                   0\n",
       "dtype: int64"
      ]
     },
     "execution_count": 47,
     "metadata": {},
     "output_type": "execute_result"
    }
   ],
   "source": [
    "test_df.isnull().sum()"
   ]
  },
  {
   "cell_type": "code",
   "execution_count": 48,
   "id": "2e5fef96-6e7c-4106-b845-69cc0113958a",
   "metadata": {},
   "outputs": [],
   "source": [
    "test_df=test_df.dropna()"
   ]
  },
  {
   "cell_type": "code",
   "execution_count": 49,
   "id": "e4f7e253-45a8-492e-9098-613cfe9b99c6",
   "metadata": {},
   "outputs": [
    {
     "data": {
      "text/plain": [
       "(15834, 22)"
      ]
     },
     "execution_count": 49,
     "metadata": {},
     "output_type": "execute_result"
    }
   ],
   "source": [
    "test_df.shape"
   ]
  },
  {
   "cell_type": "code",
   "execution_count": 50,
   "id": "07cdc2ed-e2c9-4892-aa94-11bca8cb220f",
   "metadata": {},
   "outputs": [
    {
     "data": {
      "text/plain": [
       "Index(['custAge', 'profession', 'marital', 'schooling', 'default', 'housing',\n",
       "       'loan', 'previous', 'poutcome', 'emp.var.rate', 'cons.price.idx',\n",
       "       'cons.conf.idx', 'euribor3m', 'nr.employed', 'pmonths', 'pastEmail',\n",
       "       'responded'],\n",
       "      dtype='object')"
      ]
     },
     "execution_count": 50,
     "metadata": {},
     "output_type": "execute_result"
    }
   ],
   "source": [
    "df.columns"
   ]
  },
  {
   "cell_type": "code",
   "execution_count": 51,
   "id": "4bec87d4-f6a9-4717-b927-5fe9736064f8",
   "metadata": {},
   "outputs": [
    {
     "data": {
      "text/plain": [
       "Index(['custAge', 'profession', 'marital', 'schooling', 'default', 'housing',\n",
       "       'loan', 'contact', 'month', 'day_of_week', 'campaign', 'pdays',\n",
       "       'previous', 'poutcome', 'emp.var.rate', 'cons.price.idx',\n",
       "       'cons.conf.idx', 'euribor3m', 'nr.employed', 'pmonths', 'pastEmail',\n",
       "       'id'],\n",
       "      dtype='object')"
      ]
     },
     "execution_count": 51,
     "metadata": {},
     "output_type": "execute_result"
    }
   ],
   "source": [
    "test_df.columns"
   ]
  },
  {
   "cell_type": "markdown",
   "id": "6e91de40-7dd7-4dee-ad70-24f3301aecca",
   "metadata": {},
   "source": [
    "Removing columns that was not used for training"
   ]
  },
  {
   "cell_type": "code",
   "execution_count": 52,
   "id": "0f6b7e55-b81f-4c36-ab1e-ac8938ac87e2",
   "metadata": {},
   "outputs": [],
   "source": [
    "col_remove=[col for col in test_df.columns if col not in df.columns]"
   ]
  },
  {
   "cell_type": "code",
   "execution_count": 53,
   "id": "c2b8a750-ebe6-47e7-99c3-281f3f42bd7e",
   "metadata": {},
   "outputs": [],
   "source": [
    "test_df.drop(columns=col_remove,inplace=True)"
   ]
  },
  {
   "cell_type": "code",
   "execution_count": 54,
   "id": "fe8cd98a-854d-4154-8856-777582652ffc",
   "metadata": {},
   "outputs": [],
   "source": [
    "test_df=preprocessor.fit_transform(test_df)\n",
    "encoded_cat_columns=preprocessor.named_transformers_['cat'].get_feature_names_out(cat_columns)\n",
    "encoded_cat_columns=list(encoded_cat_columns)\n",
    "test_df=pd.DataFrame(test_df,columns=num_columns+encoded_cat_columns)"
   ]
  },
  {
   "cell_type": "markdown",
   "id": "82a26ff0-78a5-4266-9d4d-e92b2aa6e1cc",
   "metadata": {},
   "source": [
    "Checking columm labels are matching for train and test df"
   ]
  },
  {
   "cell_type": "code",
   "execution_count": 55,
   "id": "6b05db46-3a5c-4537-9ad2-1d27c454fe42",
   "metadata": {},
   "outputs": [
    {
     "name": "stdout",
     "output_type": "stream",
     "text": [
      "79\n",
      "80\n"
     ]
    }
   ],
   "source": [
    "print(len(X.columns))\n",
    "print(len(test_df.columns))"
   ]
  },
  {
   "cell_type": "markdown",
   "id": "050d40b2-a4c1-4a8a-8d2e-da794e2b73e6",
   "metadata": {},
   "source": [
    "Identifying the extra column and removing"
   ]
  },
  {
   "cell_type": "code",
   "execution_count": 56,
   "id": "1347a634-c3b4-4890-8a7a-a39ffae167e7",
   "metadata": {},
   "outputs": [],
   "source": [
    "col_remove=[col for col in test_df.columns if col not in X.columns]"
   ]
  },
  {
   "cell_type": "code",
   "execution_count": 57,
   "id": "12afe224-0723-4d97-ab31-d50cf550e7a6",
   "metadata": {},
   "outputs": [],
   "source": [
    "test_df.drop(columns=col_remove,inplace=True)"
   ]
  },
  {
   "cell_type": "code",
   "execution_count": 58,
   "id": "9683fee7-80af-4d74-80c2-a178925c0865",
   "metadata": {},
   "outputs": [],
   "source": [
    "col_add=[col for col in X.columns if col not in test_df.columns]"
   ]
  },
  {
   "cell_type": "code",
   "execution_count": 59,
   "id": "83b59dc6-6861-4b09-9e44-c86a16dc958c",
   "metadata": {},
   "outputs": [
    {
     "data": {
      "text/plain": [
       "['previous_1.0',\n",
       " 'previous_2.0',\n",
       " 'previous_3.0',\n",
       " 'previous_4.0',\n",
       " 'previous_5.0',\n",
       " 'previous_6.0',\n",
       " 'pmonths_0.633333333333333',\n",
       " 'pmonths_0.833333333333333',\n",
       " 'pastEmail_1.0',\n",
       " 'pastEmail_2.0',\n",
       " 'pastEmail_3.0',\n",
       " 'pastEmail_4.0',\n",
       " 'pastEmail_5.0',\n",
       " 'pastEmail_6.0',\n",
       " 'pastEmail_7.0',\n",
       " 'pastEmail_8.0',\n",
       " 'pastEmail_9.0',\n",
       " 'pastEmail_10.0',\n",
       " 'pastEmail_12.0',\n",
       " 'pastEmail_14.0',\n",
       " 'pastEmail_15.0',\n",
       " 'pastEmail_16.0',\n",
       " 'pastEmail_18.0',\n",
       " 'pastEmail_25.0']"
      ]
     },
     "execution_count": 59,
     "metadata": {},
     "output_type": "execute_result"
    },
    {
     "name": "stdout",
     "output_type": "stream",
     "text": [
      "[CV] END bootstrap=False, max_depth=10, min_samples_split=0.05, n_estimators=20; total time=   0.3s\n",
      "[CV] END bootstrap=False, max_depth=30, min_samples_split=0.025, n_estimators=20; total time=   0.4s\n",
      "[CV] END bootstrap=True, max_depth=20, min_samples_split=0.25, n_estimators=100; total time=   0.8s\n",
      "[CV] END bootstrap=True, max_depth=10, min_samples_split=0.1, n_estimators=20; total time=   0.2s\n",
      "[CV] END bootstrap=False, max_depth=10, min_samples_split=0.025, n_estimators=20; total time=   0.2s\n",
      "[CV] END bootstrap=True, max_depth=20, min_samples_split=0.1, n_estimators=100; total time=   0.9s\n",
      "[CV] END bootstrap=False, max_depth=10, min_samples_split=0.05, n_estimators=20; total time=   0.3s\n",
      "[CV] END bootstrap=False, max_depth=10, min_samples_split=0.1, n_estimators=10; total time=   0.1s\n",
      "[CV] END bootstrap=True, max_depth=20, min_samples_split=0.25, n_estimators=100; total time=   0.9s\n",
      "[CV] END bootstrap=False, max_depth=None, min_samples_split=0.25, n_estimators=50; total time=   0.5s\n",
      "[CV] END bootstrap=False, max_depth=10, min_samples_split=0.025, n_estimators=20; total time=   0.2s\n",
      "[CV] END bootstrap=False, max_depth=10, min_samples_split=0.025, n_estimators=10; total time=   0.1s\n",
      "[CV] END bootstrap=False, max_depth=10, min_samples_split=0.025, n_estimators=10; total time=   0.1s\n",
      "[CV] END bootstrap=False, max_depth=10, min_samples_split=0.025, n_estimators=10; total time=   0.1s\n",
      "[CV] END bootstrap=False, max_depth=30, min_samples_split=0.025, n_estimators=50; total time=   0.5s\n",
      "[CV] END bootstrap=False, max_depth=10, min_samples_split=0.1, n_estimators=10; total time=   0.2s\n",
      "[CV] END bootstrap=False, max_depth=10, min_samples_split=0.1, n_estimators=10; total time=   0.1s\n",
      "[CV] END bootstrap=False, max_depth=30, min_samples_split=0.025, n_estimators=20; total time=   0.3s\n",
      "[CV] END bootstrap=False, max_depth=None, min_samples_split=0.25, n_estimators=50; total time=   0.5s\n",
      "[CV] END bootstrap=False, max_depth=None, min_samples_split=0.25, n_estimators=50; total time=   0.4s\n",
      "[CV] END bootstrap=True, max_depth=10, min_samples_split=0.1, n_estimators=20; total time=   0.2s\n",
      "[CV] END bootstrap=True, max_depth=20, min_samples_split=0.1, n_estimators=100; total time=   0.8s\n",
      "[CV] END bootstrap=False, max_depth=30, min_samples_split=0.025, n_estimators=50; total time=   0.4s\n",
      "[CV] END bootstrap=False, max_depth=10, min_samples_split=0.05, n_estimators=20; total time=   0.3s\n",
      "[CV] END bootstrap=False, max_depth=30, min_samples_split=0.025, n_estimators=20; total time=   0.4s\n",
      "[CV] END bootstrap=True, max_depth=20, min_samples_split=0.25, n_estimators=100; total time=   0.8s\n",
      "[CV] END bootstrap=True, max_depth=10, min_samples_split=0.1, n_estimators=20; total time=   0.2s\n",
      "[CV] END bootstrap=False, max_depth=10, min_samples_split=0.025, n_estimators=20; total time=   0.2s\n",
      "[CV] END bootstrap=True, max_depth=20, min_samples_split=0.1, n_estimators=100; total time=   0.8s\n",
      "[CV] END bootstrap=False, max_depth=30, min_samples_split=0.025, n_estimators=50; total time=   0.4s\n"
     ]
    }
   ],
   "source": [
    "col_add"
   ]
  },
  {
   "cell_type": "code",
   "execution_count": 60,
   "id": "1da5aaed-c9e0-43b6-94f2-a7c993a3f5a5",
   "metadata": {},
   "outputs": [],
   "source": [
    "for col in col_add:\n",
    "    test_df[col] = 0"
   ]
  },
  {
   "cell_type": "code",
   "execution_count": 62,
   "id": "8a3a6c68-3af9-4c15-8d72-387955937590",
   "metadata": {},
   "outputs": [
    {
     "data": {
      "text/plain": [
       "79"
      ]
     },
     "execution_count": 62,
     "metadata": {},
     "output_type": "execute_result"
    }
   ],
   "source": [
    "len(test_df.columns)"
   ]
  },
  {
   "cell_type": "markdown",
   "id": "b2ff2c01-f0eb-49a9-9b53-7d341df5b1ea",
   "metadata": {},
   "source": [
    "Predicting the label and probability"
   ]
  },
  {
   "cell_type": "code",
   "execution_count": 63,
   "id": "1c237eeb-2537-4058-9010-f9b8ebe77dc9",
   "metadata": {},
   "outputs": [
    {
     "name": "stderr",
     "output_type": "stream",
     "text": [
      "/opt/anaconda3/lib/python3.11/site-packages/sklearn/base.py:493: FutureWarning: The feature names should match those that were passed during fit. Starting version 1.2, an error will be raised.\n",
      "Feature names must be in the same order as they were in fit.\n",
      "\n",
      "  warnings.warn(message, FutureWarning)\n",
      "/opt/anaconda3/lib/python3.11/site-packages/sklearn/base.py:493: FutureWarning: The feature names should match those that were passed during fit. Starting version 1.2, an error will be raised.\n",
      "Feature names must be in the same order as they were in fit.\n",
      "\n",
      "  warnings.warn(message, FutureWarning)\n"
     ]
    }
   ],
   "source": [
    "y_pred_test = best_rf.predict(test_df)\n",
    "y_pred_proba_test = best_rf.predict_proba(test_df)\n",
    "prob_df = pd.DataFrame(y_pred_proba_test, columns=['prob_class_0', 'prob_class_1'])"
   ]
  },
  {
   "cell_type": "code",
   "execution_count": 64,
   "id": "9867c323-e961-4d19-bf85-ac8bcc126523",
   "metadata": {},
   "outputs": [
    {
     "data": {
      "text/html": [
       "<div>\n",
       "<style scoped>\n",
       "    .dataframe tbody tr th:only-of-type {\n",
       "        vertical-align: middle;\n",
       "    }\n",
       "\n",
       "    .dataframe tbody tr th {\n",
       "        vertical-align: top;\n",
       "    }\n",
       "\n",
       "    .dataframe thead th {\n",
       "        text-align: right;\n",
       "    }\n",
       "</style>\n",
       "<table border=\"1\" class=\"dataframe\">\n",
       "  <thead>\n",
       "    <tr style=\"text-align: right;\">\n",
       "      <th></th>\n",
       "      <th>prob_class_0</th>\n",
       "      <th>prob_class_1</th>\n",
       "    </tr>\n",
       "  </thead>\n",
       "  <tbody>\n",
       "    <tr>\n",
       "      <th>0</th>\n",
       "      <td>0.558519</td>\n",
       "      <td>0.441481</td>\n",
       "    </tr>\n",
       "    <tr>\n",
       "      <th>1</th>\n",
       "      <td>0.666706</td>\n",
       "      <td>0.333294</td>\n",
       "    </tr>\n",
       "    <tr>\n",
       "      <th>2</th>\n",
       "      <td>0.835581</td>\n",
       "      <td>0.164419</td>\n",
       "    </tr>\n",
       "    <tr>\n",
       "      <th>3</th>\n",
       "      <td>0.844528</td>\n",
       "      <td>0.155472</td>\n",
       "    </tr>\n",
       "    <tr>\n",
       "      <th>4</th>\n",
       "      <td>0.823418</td>\n",
       "      <td>0.176582</td>\n",
       "    </tr>\n",
       "  </tbody>\n",
       "</table>\n",
       "</div>"
      ],
      "text/plain": [
       "   prob_class_0  prob_class_1\n",
       "0      0.558519      0.441481\n",
       "1      0.666706      0.333294\n",
       "2      0.835581      0.164419\n",
       "3      0.844528      0.155472\n",
       "4      0.823418      0.176582"
      ]
     },
     "execution_count": 64,
     "metadata": {},
     "output_type": "execute_result"
    }
   ],
   "source": [
    "prob_df.head()"
   ]
  },
  {
   "cell_type": "markdown",
   "id": "9db1fda6-847a-4aef-bf1f-3e5d47566bff",
   "metadata": {},
   "source": [
    "adding the predicted lable to prob_df"
   ]
  },
  {
   "cell_type": "code",
   "execution_count": 66,
   "id": "45848085-da0c-4f2b-a016-d2681fb25b7b",
   "metadata": {},
   "outputs": [],
   "source": [
    "prob_df['prediction']=y_pred_test"
   ]
  },
  {
   "cell_type": "code",
   "execution_count": 70,
   "id": "8da6cd48-f8fe-4a83-9f6e-dd315977d137",
   "metadata": {},
   "outputs": [
    {
     "data": {
      "text/html": [
       "<div>\n",
       "<style scoped>\n",
       "    .dataframe tbody tr th:only-of-type {\n",
       "        vertical-align: middle;\n",
       "    }\n",
       "\n",
       "    .dataframe tbody tr th {\n",
       "        vertical-align: top;\n",
       "    }\n",
       "\n",
       "    .dataframe thead th {\n",
       "        text-align: right;\n",
       "    }\n",
       "</style>\n",
       "<table border=\"1\" class=\"dataframe\">\n",
       "  <thead>\n",
       "    <tr style=\"text-align: right;\">\n",
       "      <th></th>\n",
       "      <th>prob_class_0</th>\n",
       "      <th>prob_class_1</th>\n",
       "      <th>prediction</th>\n",
       "    </tr>\n",
       "  </thead>\n",
       "  <tbody>\n",
       "    <tr>\n",
       "      <th>0</th>\n",
       "      <td>0.558519</td>\n",
       "      <td>0.441481</td>\n",
       "      <td>0</td>\n",
       "    </tr>\n",
       "    <tr>\n",
       "      <th>1</th>\n",
       "      <td>0.666706</td>\n",
       "      <td>0.333294</td>\n",
       "      <td>0</td>\n",
       "    </tr>\n",
       "    <tr>\n",
       "      <th>2</th>\n",
       "      <td>0.835581</td>\n",
       "      <td>0.164419</td>\n",
       "      <td>0</td>\n",
       "    </tr>\n",
       "    <tr>\n",
       "      <th>3</th>\n",
       "      <td>0.844528</td>\n",
       "      <td>0.155472</td>\n",
       "      <td>0</td>\n",
       "    </tr>\n",
       "    <tr>\n",
       "      <th>4</th>\n",
       "      <td>0.823418</td>\n",
       "      <td>0.176582</td>\n",
       "      <td>0</td>\n",
       "    </tr>\n",
       "  </tbody>\n",
       "</table>\n",
       "</div>"
      ],
      "text/plain": [
       "   prob_class_0  prob_class_1  prediction\n",
       "0      0.558519      0.441481           0\n",
       "1      0.666706      0.333294           0\n",
       "2      0.835581      0.164419           0\n",
       "3      0.844528      0.155472           0\n",
       "4      0.823418      0.176582           0"
      ]
     },
     "execution_count": 70,
     "metadata": {},
     "output_type": "execute_result"
    }
   ],
   "source": [
    "prob_df.head()"
   ]
  },
  {
   "cell_type": "code",
   "execution_count": null,
   "id": "c348b85f-2929-438f-9ae2-43c72cb333cf",
   "metadata": {},
   "outputs": [],
   "source": []
  }
 ],
 "metadata": {
  "kernelspec": {
   "display_name": "Python 3 (ipykernel)",
   "language": "python",
   "name": "python3"
  },
  "language_info": {
   "codemirror_mode": {
    "name": "ipython",
    "version": 3
   },
   "file_extension": ".py",
   "mimetype": "text/x-python",
   "name": "python",
   "nbconvert_exporter": "python",
   "pygments_lexer": "ipython3",
   "version": "3.11.7"
  }
 },
 "nbformat": 4,
 "nbformat_minor": 5
}
